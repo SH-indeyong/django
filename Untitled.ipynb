{
 "cells": [
  {
   "cell_type": "code",
   "execution_count": 3,
   "id": "28fd83ab",
   "metadata": {},
   "outputs": [
    {
     "name": "stdout",
     "output_type": "stream",
     "text": [
      "Collecting django\n",
      "  Downloading Django-4.2.3-py3-none-any.whl (8.0 MB)\n",
      "\u001b[K     |████████████████████████████████| 8.0 MB 7.4 MB/s eta 0:00:01\n",
      "\u001b[?25hCollecting asgiref<4,>=3.6.0\n",
      "  Downloading asgiref-3.7.2-py3-none-any.whl (24 kB)\n",
      "Collecting sqlparse>=0.3.1\n",
      "  Using cached sqlparse-0.4.4-py3-none-any.whl (41 kB)\n",
      "Collecting typing-extensions>=4\n",
      "  Downloading typing_extensions-4.7.1-py3-none-any.whl (33 kB)\n",
      "Installing collected packages: typing-extensions, sqlparse, asgiref, django\n",
      "  Attempting uninstall: typing-extensions\n",
      "    Found existing installation: typing-extensions 3.10.0.2\n",
      "    Uninstalling typing-extensions-3.10.0.2:\n",
      "      Successfully uninstalled typing-extensions-3.10.0.2\n",
      "Successfully installed asgiref-3.7.2 django-4.2.3 sqlparse-0.4.4 typing-extensions-4.7.1\n",
      "Note: you may need to restart the kernel to use updated packages.\n"
     ]
    }
   ],
   "source": [
    "pip install django"
   ]
  },
  {
   "cell_type": "code",
   "execution_count": 2,
   "id": "6b9051db",
   "metadata": {},
   "outputs": [],
   "source": [
    "import os\n",
    "os.environ['DJANGO_SETTINGS_MODULE'] = 'learning.settings'\n",
    "os.environ['DJANGO_ALLOW_ASYNC_UNSAFE'] = 'true'\n",
    "\n",
    "import django\n",
    "django.setup()"
   ]
  },
  {
   "cell_type": "code",
   "execution_count": 3,
   "id": "2900cd6e",
   "metadata": {},
   "outputs": [],
   "source": [
    "from instagram1.models import Post"
   ]
  },
  {
   "cell_type": "code",
   "execution_count": 13,
   "id": "b724f8ea",
   "metadata": {},
   "outputs": [
    {
     "name": "stdout",
     "output_type": "stream",
     "text": [
      "SELECT \"instagram1_post\".\"id\", \"instagram1_post\".\"message\", \"instagram1_post\".\"photo\", \"instagram1_post\".\"is_public\", \"instagram1_post\".\"created_at\", \"instagram1_post\".\"updated_at\" FROM \"instagram1_post\" ORDER BY \"instagram1_post\".\"id\" DESC\n"
     ]
    },
    {
     "data": {
      "text/plain": [
       "<QuerySet [<Post: Custom Post object (4)>, <Post: Custom Post object (3)>, <Post: Custom Post object (2)>, <Post: Custom Post object (1)>]>"
      ]
     },
     "execution_count": 13,
     "metadata": {},
     "output_type": "execute_result"
    }
   ],
   "source": [
    "qs = Post.objects.all().order_by('-id')\n",
    "print(qs.query)\n",
    "qs"
   ]
  },
  {
   "cell_type": "code",
   "execution_count": 19,
   "id": "004fc60e",
   "metadata": {},
   "outputs": [
    {
     "name": "stdout",
     "output_type": "stream",
     "text": [
      "id: 4, message: 4, create: 2023-07-23 08:05:05.918108+00:00\n",
      "id: 3, message: 세번째 메세지, create: 2023-07-19 06:21:31.916923+00:00\n",
      "id: 2, message: 두번째 메세지, create: 2023-07-19 06:21:25.160201+00:00\n",
      "id: 1, message: 첫번째 메세지, create: 2023-07-19 06:21:12.389305+00:00\n"
     ]
    }
   ],
   "source": [
    "for post in qs:\n",
    "#     print(post.id, post.message, post.created_at)\n",
    "    print(\"id: {id}, message: {message}, create: {created_at}\".format(**post.__dict__))"
   ]
  },
  {
   "cell_type": "code",
   "execution_count": 30,
   "id": "5c9f1056",
   "metadata": {},
   "outputs": [
    {
     "data": {
      "text/plain": [
       "<Post: Custom Post object (1)>"
      ]
     },
     "execution_count": 30,
     "metadata": {},
     "output_type": "execute_result"
    }
   ],
   "source": [
    "qs = Post.objects.all()\n",
    "qs.get(id__lte=2) \n",
    "# less than, less than equal, greater than, greater than equal\n",
    "# get() 결괏값이 하나만 나와야 함"
   ]
  },
  {
   "cell_type": "code",
   "execution_count": 39,
   "id": "0ec596d0",
   "metadata": {},
   "outputs": [
    {
     "data": {
      "text/plain": [
       "<QuerySet [<Post: Custom Post object (1)>, <Post: Custom Post object (2)>, <Post: Custom Post object (3)>]>"
      ]
     },
     "execution_count": 39,
     "metadata": {},
     "output_type": "execute_result"
    }
   ],
   "source": [
    "Post.objects.exclude(id__gte=2, id=4)"
   ]
  },
  {
   "cell_type": "code",
   "execution_count": 34,
   "id": "d034c186",
   "metadata": {},
   "outputs": [],
   "source": [
    "from django.db.models import Q"
   ]
  },
  {
   "cell_type": "code",
   "execution_count": 38,
   "id": "99adac47",
   "metadata": {},
   "outputs": [
    {
     "data": {
      "text/plain": [
       "<QuerySet [<Post: Custom Post object (2)>, <Post: Custom Post object (3)>, <Post: Custom Post object (4)>]>"
      ]
     },
     "execution_count": 38,
     "metadata": {},
     "output_type": "execute_result"
    }
   ],
   "source": [
    "Post.objects.filter(Q(id__gte=2) | Q(id=4))"
   ]
  },
  {
   "cell_type": "code",
   "execution_count": null,
   "id": "03261083",
   "metadata": {},
   "outputs": [],
   "source": []
  }
 ],
 "metadata": {
  "kernelspec": {
   "display_name": "Python 3 (ipykernel)",
   "language": "python",
   "name": "python3"
  },
  "language_info": {
   "codemirror_mode": {
    "name": "ipython",
    "version": 3
   },
   "file_extension": ".py",
   "mimetype": "text/x-python",
   "name": "python",
   "nbconvert_exporter": "python",
   "pygments_lexer": "ipython3",
   "version": "3.9.7"
  }
 },
 "nbformat": 4,
 "nbformat_minor": 5
}
